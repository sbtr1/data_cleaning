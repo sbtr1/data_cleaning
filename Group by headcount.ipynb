{
 "cells": [
  {
   "cell_type": "code",
   "execution_count": 82,
   "metadata": {},
   "outputs": [],
   "source": [
    "import pandas as pd\n",
    "import numpy as np\n",
    "import matplotlib.pyplot as plt\n",
    "from datetime import datetime"
   ]
  },
  {
   "cell_type": "code",
   "execution_count": 83,
   "metadata": {},
   "outputs": [],
   "source": [
    "resigned = pd.read_csv(\"resigned.csv\")\n",
    "headcount = pd.read_csv(\"headcount.csv\")"
   ]
  },
  {
   "cell_type": "code",
   "execution_count": 84,
   "metadata": {},
   "outputs": [],
   "source": [
    "resigned['Date of Leaving'] = pd.to_datetime(resigned['Date of Leaving'], format = '%d/%m/%y')"
   ]
  },
  {
   "cell_type": "code",
   "execution_count": 85,
   "metadata": {},
   "outputs": [],
   "source": [
    "resigned['Date of Leaving'] = resigned['Date of Leaving'].map(lambda x : x.replace(day=1).date())\n",
    "df = resigned.groupby(['Org Unit', 'Date of Leaving'])['Staff ID'].count().reset_index()\n",
    "df.rename(columns={'Org Unit': 'Org. Unit', 'Date of Leaving': 'Date','Staff ID': 'Resignations'}, inplace=True)"
   ]
  },
  {
   "cell_type": "code",
   "execution_count": 86,
   "metadata": {},
   "outputs": [],
   "source": [
    "headcount['Date'] = pd.to_datetime(headcount['Date'])\n",
    "df['Date'] = pd.to_datetime(df['Date'])\n",
    "headcount['Date'] = headcount['Date'] + pd.DateOffset(months=1) #Headcount is at month end\n",
    "merged = pd.merge(headcount, df, how=\"left\", on=['Org. Unit', 'Date'])\n",
    "merged.fillna(0, inplace=True)"
   ]
  },
  {
   "cell_type": "code",
   "execution_count": 87,
   "metadata": {},
   "outputs": [],
   "source": [
    "merged.to_csv(\"attrition_clean.csv\", index=False)"
   ]
  },
  {
   "cell_type": "code",
   "execution_count": null,
   "metadata": {},
   "outputs": [],
   "source": []
  }
 ],
 "metadata": {
  "kernelspec": {
   "display_name": "Python 3",
   "language": "python",
   "name": "python3"
  },
  "language_info": {
   "codemirror_mode": {
    "name": "ipython",
    "version": 3
   },
   "file_extension": ".py",
   "mimetype": "text/x-python",
   "name": "python",
   "nbconvert_exporter": "python",
   "pygments_lexer": "ipython3",
   "version": "3.7.1"
  }
 },
 "nbformat": 4,
 "nbformat_minor": 2
}
