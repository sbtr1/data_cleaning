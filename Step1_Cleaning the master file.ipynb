{
 "cells": [
  {
   "cell_type": "code",
   "execution_count": 29,
   "metadata": {},
   "outputs": [],
   "source": [
    "import pandas as pd\n",
    "import os\n",
    "from datetime import datetime"
   ]
  },
  {
   "cell_type": "markdown",
   "metadata": {},
   "source": [
    "Iterate through the raw files and create a master file:"
   ]
  },
  {
   "cell_type": "code",
   "execution_count": 30,
   "metadata": {},
   "outputs": [],
   "source": [
    "directory = os.getcwd() + \"/spreadsheets/\"\n",
    "df2 = pd.DataFrame()\n",
    "for filename in os.listdir(directory):\n",
    "     if filename.endswith(\".xlsx\"):\n",
    "        df = pd.read_excel(directory + filename)\n",
    "        df = df[['   Rank', 'Emp.No.','Org. Unit', 'SEX', 'Race', 'Nationality', ' Marital St.', 'Certificate','Date of Birth', 'Date of Enlistment']]\n",
    "        date = datetime.strptime(filename[0:-5], '%b %y')\n",
    "        df['Date of Headcount'] = date.date()\n",
    "        df2 = df2.append(df)\n",
    "df2.to_csv(\"df2.csv\",index=False)"
   ]
  },
  {
   "cell_type": "code",
   "execution_count": 31,
   "metadata": {},
   "outputs": [],
   "source": [
    "df2.rename(columns={'   Rank':'Rank', 'Emp.No.':'Staff ID', ' Marital St.':'Marital Status'}, inplace=True)\n",
    "df2['Date of Headcount'] = pd.to_datetime(df2['Date of Headcount'])\n",
    "df2['Date of Headcount'] = (df2['Date of Headcount'] + pd.offsets.MonthEnd(n=2)).apply(lambda dt: dt.replace(day=1))\n",
    "\n",
    "#Headcount is at last day of every month, we coerce to first day of next month"
   ]
  },
  {
   "cell_type": "code",
   "execution_count": 32,
   "metadata": {},
   "outputs": [],
   "source": [
    "df2 = df2[df2['Org. Unit']!='APF HQ Recruits Branch']\n",
    "df2 = df2[df2['Org. Unit']!='Planning']\n",
    "df2 = df2[df2['Org. Unit']!='Manpower Planning Officer']"
   ]
  },
  {
   "cell_type": "markdown",
   "metadata": {},
   "source": [
    "Merge education rank:"
   ]
  },
  {
   "cell_type": "code",
   "execution_count": 33,
   "metadata": {},
   "outputs": [],
   "source": [
    "education = pd.read_csv(\"educationrank.csv\")\n",
    "master = pd.merge(df2, education, how=\"left\", left_on='Certificate', right_on='Certificate text')\n",
    "master.rename(columns={'SEX':'Sex', 'Ranking':'Education Rank'}, inplace=True)\n",
    "master.drop(['Certificate','Certificate text'], axis=1, inplace=True)"
   ]
  },
  {
   "cell_type": "markdown",
   "metadata": {},
   "source": [
    "Merge org unit groups:"
   ]
  },
  {
   "cell_type": "code",
   "execution_count": 34,
   "metadata": {},
   "outputs": [],
   "source": [
    "orgunits = pd.read_csv(\"orgunits.csv\")\n",
    "master = pd.merge(master, orgunits, how=\"left\", on=\"Org. Unit\")\n",
    "master.rename(columns={'Org. Unit Grouping':'Org Unit Group'}, inplace=True)\n",
    "master.drop(['Org. Unit'], axis=1, inplace=True)"
   ]
  },
  {
   "cell_type": "code",
   "execution_count": 37,
   "metadata": {},
   "outputs": [],
   "source": [
    "#master['Length of Service'] = master['Date of Headcount'] - master['Date of Enlistment']\n",
    "#master['Age'] = master['Date of Headcount'] - master['Date of Birth']\n",
    "master.dropna(subset=['Org Unit Group'],inplace=True)\n",
    "master.drop_duplicates(inplace=True)\n",
    "master.to_csv(\"master.csv\", index=False)"
   ]
  },
  {
   "cell_type": "code",
   "execution_count": 36,
   "metadata": {},
   "outputs": [
    {
     "name": "stdout",
     "output_type": "stream",
     "text": [
      "<class 'pandas.core.frame.DataFrame'>\n",
      "Int64Index: 193776 entries, 0 to 193775\n",
      "Data columns (total 11 columns):\n",
      "Rank                  193776 non-null object\n",
      "Staff ID              193776 non-null int64\n",
      "Sex                   193776 non-null object\n",
      "Race                  193776 non-null object\n",
      "Nationality           193776 non-null object\n",
      "Marital Status        193703 non-null object\n",
      "Date of Birth         193776 non-null datetime64[ns]\n",
      "Date of Enlistment    193776 non-null datetime64[ns]\n",
      "Date of Headcount     193776 non-null datetime64[ns]\n",
      "Education Rank        193768 non-null float64\n",
      "Org Unit Group        191686 non-null object\n",
      "dtypes: datetime64[ns](3), float64(1), int64(1), object(6)\n",
      "memory usage: 17.7+ MB\n"
     ]
    }
   ],
   "source": [
    "master.info()"
   ]
  },
  {
   "cell_type": "code",
   "execution_count": 38,
   "metadata": {},
   "outputs": [
    {
     "name": "stdout",
     "output_type": "stream",
     "text": [
      "<class 'pandas.core.frame.DataFrame'>\n",
      "Int64Index: 127111 entries, 0 to 193775\n",
      "Data columns (total 11 columns):\n",
      "Rank                  127111 non-null object\n",
      "Staff ID              127111 non-null int64\n",
      "Sex                   127111 non-null object\n",
      "Race                  127111 non-null object\n",
      "Nationality           127111 non-null object\n",
      "Marital Status        127098 non-null object\n",
      "Date of Birth         127111 non-null datetime64[ns]\n",
      "Date of Enlistment    127111 non-null datetime64[ns]\n",
      "Date of Headcount     127111 non-null datetime64[ns]\n",
      "Education Rank        127104 non-null float64\n",
      "Org Unit Group        127111 non-null object\n",
      "dtypes: datetime64[ns](3), float64(1), int64(1), object(6)\n",
      "memory usage: 11.6+ MB\n"
     ]
    }
   ],
   "source": [
    "master.info()"
   ]
  },
  {
   "cell_type": "code",
   "execution_count": null,
   "metadata": {},
   "outputs": [],
   "source": []
  }
 ],
 "metadata": {
  "kernelspec": {
   "display_name": "Python 3",
   "language": "python",
   "name": "python3"
  },
  "language_info": {
   "codemirror_mode": {
    "name": "ipython",
    "version": 3
   },
   "file_extension": ".py",
   "mimetype": "text/x-python",
   "name": "python",
   "nbconvert_exporter": "python",
   "pygments_lexer": "ipython3",
   "version": "3.7.1"
  }
 },
 "nbformat": 4,
 "nbformat_minor": 2
}
