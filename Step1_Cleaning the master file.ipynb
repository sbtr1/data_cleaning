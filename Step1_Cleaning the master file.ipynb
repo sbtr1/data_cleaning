{
 "cells": [
  {
   "cell_type": "code",
   "execution_count": 2,
   "metadata": {},
   "outputs": [],
   "source": [
    "import pandas as pd\n",
    "import os\n",
    "from datetime import datetime"
   ]
  },
  {
   "cell_type": "markdown",
   "metadata": {},
   "source": [
    "Iterate through the raw files and create a master file:"
   ]
  },
  {
   "cell_type": "code",
   "execution_count": 3,
   "metadata": {},
   "outputs": [],
   "source": [
    "directory = os.getcwd() + \"/spreadsheets/\"\n",
    "df2 = pd.DataFrame()\n",
    "for filename in os.listdir(directory):\n",
    "     if filename.endswith(\".xlsx\"):\n",
    "        df = pd.read_excel(directory + filename)\n",
    "        df = df[['   Rank', 'Emp.No.','Org. Unit', 'SEX', 'Race', 'Nationality', ' Marital St.', 'Certificate','Date of Birth', 'Date of Enlistment']]\n",
    "        date = datetime.strptime(filename[0:-5], '%b %y')\n",
    "        df['Date of Headcount'] = date.date()\n",
    "        df2 = df2.append(df)\n",
    "df2.to_csv(\"df2.csv\",index=False)"
   ]
  },
  {
   "cell_type": "code",
   "execution_count": 13,
   "metadata": {},
   "outputs": [],
   "source": [
    "df2.rename(columns={'   Rank':'Rank', 'Emp.No.':'Staff ID', ' Marital St.':'Marital Status'}, inplace=True)\n",
    "df2['Date of Headcount'] = pd.to_datetime(df2['Date of Headcount'])\n",
    "df2['Date of Headcount'] = df2['Date of Headcount'] + pd.offsets.MonthEnd(n=1) #Headcount is at month end"
   ]
  },
  {
   "cell_type": "code",
   "execution_count": 14,
   "metadata": {},
   "outputs": [],
   "source": [
    "df2 = df2[df2['Org. Unit']!='APF HQ Recruits Branch']\n",
    "df2 = df2[df2['Org. Unit']!='Planning']\n",
    "df2 = df2[df2['Org. Unit']!='Manpower Planning Officer']"
   ]
  },
  {
   "cell_type": "markdown",
   "metadata": {},
   "source": [
    "Merge education rank:"
   ]
  },
  {
   "cell_type": "code",
   "execution_count": 15,
   "metadata": {},
   "outputs": [],
   "source": [
    "education = pd.read_csv(\"educationrank.csv\")\n",
    "master = pd.merge(df2, education, how=\"left\", left_on='Certificate', right_on='Certificate text')\n",
    "master.rename(columns={'SEX':'Sex', 'Ranking':'Education Rank'}, inplace=True)\n",
    "master.drop(['Certificate','Certificate text'], axis=1, inplace=True)"
   ]
  },
  {
   "cell_type": "markdown",
   "metadata": {},
   "source": [
    "Merge org unit groups:"
   ]
  },
  {
   "cell_type": "code",
   "execution_count": 16,
   "metadata": {},
   "outputs": [],
   "source": [
    "orgunits = pd.read_csv(\"orgunits.csv\")\n",
    "master = pd.merge(master, orgunits, how=\"left\", on=\"Org. Unit\")\n",
    "master.rename(columns={'Org. Unit Grouping':'Org Unit Group'}, inplace=True)\n",
    "master.drop(['Org. Unit'], axis=1, inplace=True)"
   ]
  },
  {
   "cell_type": "code",
   "execution_count": 18,
   "metadata": {},
   "outputs": [],
   "source": [
    "#master['Length of Service'] = master['Date of Headcount'] - master['Date of Enlistment']\n",
    "#master['Age'] = master['Date of Headcount'] - master['Date of Birth']\n",
    "master.to_csv(\"master.csv\", index=False)"
   ]
  },
  {
   "cell_type": "code",
   "execution_count": 17,
   "metadata": {},
   "outputs": [
    {
     "data": {
      "text/html": [
       "<div>\n",
       "<style scoped>\n",
       "    .dataframe tbody tr th:only-of-type {\n",
       "        vertical-align: middle;\n",
       "    }\n",
       "\n",
       "    .dataframe tbody tr th {\n",
       "        vertical-align: top;\n",
       "    }\n",
       "\n",
       "    .dataframe thead th {\n",
       "        text-align: right;\n",
       "    }\n",
       "</style>\n",
       "<table border=\"1\" class=\"dataframe\">\n",
       "  <thead>\n",
       "    <tr style=\"text-align: right;\">\n",
       "      <th></th>\n",
       "      <th>Rank</th>\n",
       "      <th>Staff ID</th>\n",
       "      <th>Sex</th>\n",
       "      <th>Race</th>\n",
       "      <th>Nationality</th>\n",
       "      <th>Marital Status</th>\n",
       "      <th>Date of Birth</th>\n",
       "      <th>Date of Enlistment</th>\n",
       "      <th>Date of Headcount</th>\n",
       "      <th>Education Rank</th>\n",
       "      <th>Org Unit Group</th>\n",
       "    </tr>\n",
       "  </thead>\n",
       "  <tbody>\n",
       "    <tr>\n",
       "      <th>0</th>\n",
       "      <td>Corporal</td>\n",
       "      <td>5183</td>\n",
       "      <td>MALE</td>\n",
       "      <td>Indian</td>\n",
       "      <td>Singaporean</td>\n",
       "      <td>Marr.</td>\n",
       "      <td>1952-02-16</td>\n",
       "      <td>1973-04-02</td>\n",
       "      <td>2018-01-31</td>\n",
       "      <td>11.0</td>\n",
       "      <td>Inspectorate</td>\n",
       "    </tr>\n",
       "    <tr>\n",
       "      <th>1</th>\n",
       "      <td>Corporal</td>\n",
       "      <td>5291</td>\n",
       "      <td>MALE</td>\n",
       "      <td>Indian</td>\n",
       "      <td>Singaporean</td>\n",
       "      <td>Marr.</td>\n",
       "      <td>1950-04-13</td>\n",
       "      <td>1973-12-10</td>\n",
       "      <td>2018-01-31</td>\n",
       "      <td>10.0</td>\n",
       "      <td>AVA Fisheries</td>\n",
       "    </tr>\n",
       "    <tr>\n",
       "      <th>2</th>\n",
       "      <td>Sergeant</td>\n",
       "      <td>5309</td>\n",
       "      <td>MALE</td>\n",
       "      <td>Malay</td>\n",
       "      <td>Singaporean</td>\n",
       "      <td>Marr.</td>\n",
       "      <td>1953-09-29</td>\n",
       "      <td>1973-12-10</td>\n",
       "      <td>2018-01-31</td>\n",
       "      <td>11.0</td>\n",
       "      <td>Custom</td>\n",
       "    </tr>\n",
       "    <tr>\n",
       "      <th>3</th>\n",
       "      <td>Lance Corporal</td>\n",
       "      <td>5468</td>\n",
       "      <td>MALE</td>\n",
       "      <td>Indian</td>\n",
       "      <td>Singaporean</td>\n",
       "      <td>Marr.</td>\n",
       "      <td>1950-12-06</td>\n",
       "      <td>1970-06-01</td>\n",
       "      <td>2018-01-31</td>\n",
       "      <td>8.0</td>\n",
       "      <td>SGH (Ward Patrol) &amp; Rider</td>\n",
       "    </tr>\n",
       "    <tr>\n",
       "      <th>4</th>\n",
       "      <td>Lance Corporal</td>\n",
       "      <td>5714</td>\n",
       "      <td>MALE</td>\n",
       "      <td>Malay</td>\n",
       "      <td>Singaporean</td>\n",
       "      <td>Marr.</td>\n",
       "      <td>1948-02-12</td>\n",
       "      <td>1967-02-01</td>\n",
       "      <td>2018-01-31</td>\n",
       "      <td>8.0</td>\n",
       "      <td>Sector P1</td>\n",
       "    </tr>\n",
       "  </tbody>\n",
       "</table>\n",
       "</div>"
      ],
      "text/plain": [
       "             Rank  Staff ID   Sex    Race  Nationality Marital Status  \\\n",
       "0        Corporal      5183  MALE  Indian  Singaporean          Marr.   \n",
       "1        Corporal      5291  MALE  Indian  Singaporean          Marr.   \n",
       "2        Sergeant      5309  MALE   Malay  Singaporean          Marr.   \n",
       "3  Lance Corporal      5468  MALE  Indian  Singaporean          Marr.   \n",
       "4  Lance Corporal      5714  MALE   Malay  Singaporean          Marr.   \n",
       "\n",
       "  Date of Birth Date of Enlistment Date of Headcount  Education Rank  \\\n",
       "0    1952-02-16         1973-04-02        2018-01-31            11.0   \n",
       "1    1950-04-13         1973-12-10        2018-01-31            10.0   \n",
       "2    1953-09-29         1973-12-10        2018-01-31            11.0   \n",
       "3    1950-12-06         1970-06-01        2018-01-31             8.0   \n",
       "4    1948-02-12         1967-02-01        2018-01-31             8.0   \n",
       "\n",
       "              Org Unit Group  \n",
       "0               Inspectorate  \n",
       "1              AVA Fisheries  \n",
       "2                     Custom  \n",
       "3  SGH (Ward Patrol) & Rider  \n",
       "4                  Sector P1  "
      ]
     },
     "execution_count": 17,
     "metadata": {},
     "output_type": "execute_result"
    }
   ],
   "source": [
    "master.head()"
   ]
  },
  {
   "cell_type": "code",
   "execution_count": null,
   "metadata": {},
   "outputs": [],
   "source": []
  }
 ],
 "metadata": {
  "kernelspec": {
   "display_name": "Python 3",
   "language": "python",
   "name": "python3"
  },
  "language_info": {
   "codemirror_mode": {
    "name": "ipython",
    "version": 3
   },
   "file_extension": ".py",
   "mimetype": "text/x-python",
   "name": "python",
   "nbconvert_exporter": "python",
   "pygments_lexer": "ipython3",
   "version": "3.7.1"
  }
 },
 "nbformat": 4,
 "nbformat_minor": 2
}
