{
 "cells": [
  {
   "cell_type": "code",
   "execution_count": 110,
   "metadata": {},
   "outputs": [],
   "source": [
    "import pandas as pd\n",
    "import numpy as np\n",
    "import matplotlib.pyplot as plt\n",
    "from datetime import datetime"
   ]
  },
  {
   "cell_type": "code",
   "execution_count": 111,
   "metadata": {},
   "outputs": [],
   "source": [
    "resigned = pd.read_csv(\"resigned.csv\")\n",
    "reasons = pd.read_csv(\"reasons.csv\")"
   ]
  },
  {
   "cell_type": "code",
   "execution_count": 112,
   "metadata": {},
   "outputs": [
    {
     "name": "stdout",
     "output_type": "stream",
     "text": [
      "<class 'pandas.core.frame.DataFrame'>\n",
      "RangeIndex: 888 entries, 0 to 887\n",
      "Data columns (total 6 columns):\n",
      "Date of Leaving    888 non-null object\n",
      "Staff ID           888 non-null int64\n",
      "Name of APO        888 non-null object\n",
      "Org Unit           888 non-null object\n",
      "Leaving Reason     888 non-null object\n",
      "Employment         888 non-null object\n",
      "dtypes: int64(1), object(5)\n",
      "memory usage: 41.7+ KB\n"
     ]
    }
   ],
   "source": [
    "resigned.info()"
   ]
  },
  {
   "cell_type": "code",
   "execution_count": 113,
   "metadata": {},
   "outputs": [
    {
     "name": "stdout",
     "output_type": "stream",
     "text": [
      "<class 'pandas.core.frame.DataFrame'>\n",
      "RangeIndex: 1293 entries, 0 to 1292\n",
      "Data columns (total 29 columns):\n",
      "Timestamp                                1293 non-null object\n",
      "Staff ID                                 1290 non-null float64\n",
      "Cannot adapt to working environement     128 non-null object\n",
      "Change of career line                    617 non-null object\n",
      "Difficulty with location                 62 non-null object\n",
      "Expectations mismatched                  2 non-null object\n",
      "Family reasons                           151 non-null object\n",
      "Further studies                          284 non-null object\n",
      "Health issues unrelated to work          154 non-null object\n",
      "Health issues related to work            0 non-null float64\n",
      "Difficulty with job scope                55 non-null object\n",
      "Lack of career development               12 non-null object\n",
      "Long working hours                       338 non-null object\n",
      "Low basic pay                            406 non-null object\n",
      "No promotional prospects                 92 non-null object\n",
      "Personal reasons                         70 non-null object\n",
      "Received a better job offer              214 non-null object\n",
      "Left for higher salary                   7 non-null object\n",
      "Retirement/taking a break                11 non-null object\n",
      "Transport problems                       77 non-null object\n",
      "Working conditions                       8 non-null object\n",
      "Welfare and benefits issues              71 non-null object\n",
      "Wants to work in home country            29 non-null object\n",
      "Unable to cope with physical training    39 non-null object\n",
      "Family/own business                      31 non-null object\n",
      "Difficulty with clients                  20 non-null object\n",
      "Difficulty with colleagues               43 non-null object\n",
      "Difficulty with supervisors              65 non-null object\n",
      "Any additional comments?                 66 non-null object\n",
      "dtypes: float64(2), object(27)\n",
      "memory usage: 293.0+ KB\n"
     ]
    }
   ],
   "source": [
    "reasons.info()"
   ]
  },
  {
   "cell_type": "markdown",
   "metadata": {},
   "source": [
    "Drop the duplicate Staff IDs:"
   ]
  },
  {
   "cell_type": "code",
   "execution_count": 114,
   "metadata": {},
   "outputs": [],
   "source": [
    "resigned.drop_duplicates(subset='Staff ID', keep='first', inplace=True)\n",
    "reasons.drop_duplicates(subset='Staff ID', keep='first', inplace=True)"
   ]
  },
  {
   "cell_type": "markdown",
   "metadata": {},
   "source": [
    "Data cleaning:"
   ]
  },
  {
   "cell_type": "code",
   "execution_count": 115,
   "metadata": {},
   "outputs": [],
   "source": [
    "#Resigned data:\n",
    "resigned['Date of Leaving'] = pd.to_datetime(resigned['Date of Leaving'])\n",
    "resigned['Staff ID'] = resigned['Staff ID'].astype(int)\n",
    "resigned.drop(['Name of APO', 'Leaving Reason', 'Employment'], axis=1, inplace=True)\n",
    "resigned = resigned[resigned['Org Unit']!='APF HQ Recruits Branch']"
   ]
  },
  {
   "cell_type": "code",
   "execution_count": 116,
   "metadata": {},
   "outputs": [],
   "source": [
    "#Reasons data:\n",
    "reasons.drop(['Timestamp'], axis=1, inplace=True)\n",
    "reasons.replace(\"Yes\", 1, inplace=True)\n",
    "reasons['Difficulty with location/transport'] = reasons[[\"Difficulty with location\", \"Transport problems\"]].max(axis=1)\n",
    "reasons['Cannot adapt to working environment/working conditions'] = reasons[[\"Cannot adapt to working environement\", \"Working conditions\"]].max(axis=1)\n",
    "reasons['Health issues'] = reasons[[\"Health issues unrelated to work\", \"Health issues related to work\"]].max(axis=1)\n",
    "reasons['Lack of career development/promotion prospects'] = reasons[[\"Lack of career development\", \"No promotional prospects\"]].max(axis=1)\n",
    "reasons.drop(['Difficulty with location', 'Transport problems'], axis=1, inplace=True)\n",
    "reasons.drop(['Cannot adapt to working environement', 'Working conditions'], axis=1, inplace=True)\n",
    "reasons.drop(['Health issues unrelated to work', 'Health issues related to work'], axis=1, inplace=True)\n",
    "reasons.drop(['Lack of career development', 'No promotional prospects'], axis=1, inplace=True)\n",
    "reasons.rename(columns={'Difficulty with clients': 'Difficulties with clients', 'Difficulty with colleagues': \n",
    "                        'Difficulties with colleagues', 'Difficulty with supervisors': 'Difficulties with supervisors'}, inplace=True)\n",
    "reasons['Staff ID'].fillna(0, inplace=True)\n",
    "reasons['Staff ID'] = reasons['Staff ID'].astype(int)\n",
    "reasons_melted = pd.melt(reasons, id_vars=['Staff ID'])\n",
    "reasons_melted.dropna(inplace=True)"
   ]
  },
  {
   "cell_type": "code",
   "execution_count": 125,
   "metadata": {},
   "outputs": [
    {
     "name": "stdout",
     "output_type": "stream",
     "text": [
      "<class 'pandas.core.frame.DataFrame'>\n",
      "Int64Index: 1278 entries, 0 to 1292\n",
      "Data columns (total 24 columns):\n",
      "Staff ID                                                  1278 non-null int64\n",
      "Change of career line                                     609 non-null float64\n",
      "Expectations mismatched                                   2 non-null float64\n",
      "Family reasons                                            150 non-null float64\n",
      "Further studies                                           283 non-null float64\n",
      "Difficulty with job scope                                 55 non-null float64\n",
      "Long working hours                                        337 non-null float64\n",
      "Low basic pay                                             402 non-null float64\n",
      "Personal reasons                                          69 non-null float64\n",
      "Received a better job offer                               211 non-null float64\n",
      "Left for higher salary                                    7 non-null float64\n",
      "Retirement/taking a break                                 10 non-null float64\n",
      "Welfare and benefits issues                               69 non-null float64\n",
      "Wants to work in home country                             29 non-null float64\n",
      "Unable to cope with physical training                     39 non-null float64\n",
      "Family/own business                                       31 non-null float64\n",
      "Difficulties with clients                                 18 non-null float64\n",
      "Difficulties with colleagues                              43 non-null float64\n",
      "Difficulties with supervisors                             64 non-null float64\n",
      "Any additional comments?                                  66 non-null object\n",
      "Difficulty with location/transport                        130 non-null float64\n",
      "Cannot adapt to working environment/working conditions    134 non-null float64\n",
      "Health issues                                             151 non-null float64\n",
      "Lack of career development/promotion prospects            98 non-null float64\n",
      "dtypes: float64(22), int64(1), object(1)\n",
      "memory usage: 249.6+ KB\n"
     ]
    }
   ],
   "source": [
    "reasons.info()"
   ]
  },
  {
   "cell_type": "code",
   "execution_count": 124,
   "metadata": {},
   "outputs": [
    {
     "data": {
      "text/html": [
       "<div>\n",
       "<style scoped>\n",
       "    .dataframe tbody tr th:only-of-type {\n",
       "        vertical-align: middle;\n",
       "    }\n",
       "\n",
       "    .dataframe tbody tr th {\n",
       "        vertical-align: top;\n",
       "    }\n",
       "\n",
       "    .dataframe thead th {\n",
       "        text-align: right;\n",
       "    }\n",
       "</style>\n",
       "<table border=\"1\" class=\"dataframe\">\n",
       "  <thead>\n",
       "    <tr style=\"text-align: right;\">\n",
       "      <th></th>\n",
       "      <th>Staff ID</th>\n",
       "      <th>variable</th>\n",
       "      <th>value</th>\n",
       "    </tr>\n",
       "  </thead>\n",
       "  <tbody>\n",
       "    <tr>\n",
       "      <th>0</th>\n",
       "      <td>24650</td>\n",
       "      <td>Change of career line</td>\n",
       "      <td>1</td>\n",
       "    </tr>\n",
       "    <tr>\n",
       "      <th>1</th>\n",
       "      <td>23995</td>\n",
       "      <td>Change of career line</td>\n",
       "      <td>1</td>\n",
       "    </tr>\n",
       "    <tr>\n",
       "      <th>2</th>\n",
       "      <td>36507</td>\n",
       "      <td>Change of career line</td>\n",
       "      <td>1</td>\n",
       "    </tr>\n",
       "    <tr>\n",
       "      <th>3</th>\n",
       "      <td>64224</td>\n",
       "      <td>Change of career line</td>\n",
       "      <td>1</td>\n",
       "    </tr>\n",
       "    <tr>\n",
       "      <th>4</th>\n",
       "      <td>61357</td>\n",
       "      <td>Change of career line</td>\n",
       "      <td>1</td>\n",
       "    </tr>\n",
       "  </tbody>\n",
       "</table>\n",
       "</div>"
      ],
      "text/plain": [
       "   Staff ID               variable value\n",
       "0     24650  Change of career line     1\n",
       "1     23995  Change of career line     1\n",
       "2     36507  Change of career line     1\n",
       "3     64224  Change of career line     1\n",
       "4     61357  Change of career line     1"
      ]
     },
     "execution_count": 124,
     "metadata": {},
     "output_type": "execute_result"
    }
   ],
   "source": [
    "reasons_melted.head()"
   ]
  },
  {
   "cell_type": "markdown",
   "metadata": {},
   "source": [
    "Merge and write:"
   ]
  },
  {
   "cell_type": "code",
   "execution_count": 117,
   "metadata": {},
   "outputs": [],
   "source": [
    "df2 = pd.merge(reasons_melted, resigned, how='left', on=['Staff ID'])\n",
    "df2.dropna(inplace=True)\n",
    "df2['Date of Leaving'] = df2['Date of Leaving'].map(lambda x : x.replace(day=1).date())\n",
    "df2.to_csv(\"resigned_clean.csv\",index=False)"
   ]
  },
  {
   "cell_type": "markdown",
   "metadata": {},
   "source": [
    "Headcount and resignations:"
   ]
  },
  {
   "cell_type": "code",
   "execution_count": 134,
   "metadata": {},
   "outputs": [],
   "source": [
    "df3 = pd.merge(resigned, reasons, how='left', on=['Staff ID'])\n",
    "df3['Date of Leaving'] = df3['Date of Leaving'].map(lambda x : x.replace(day=1).date())"
   ]
  },
  {
   "cell_type": "code",
   "execution_count": 135,
   "metadata": {},
   "outputs": [
    {
     "name": "stdout",
     "output_type": "stream",
     "text": [
      "<class 'pandas.core.frame.DataFrame'>\n",
      "Int64Index: 788 entries, 0 to 787\n",
      "Data columns (total 26 columns):\n",
      "Date of Leaving                                           788 non-null object\n",
      "Staff ID                                                  788 non-null int64\n",
      "Org Unit                                                  788 non-null object\n",
      "Change of career line                                     401 non-null float64\n",
      "Expectations mismatched                                   1 non-null float64\n",
      "Family reasons                                            81 non-null float64\n",
      "Further studies                                           147 non-null float64\n",
      "Difficulty with job scope                                 11 non-null float64\n",
      "Long working hours                                        228 non-null float64\n",
      "Low basic pay                                             286 non-null float64\n",
      "Personal reasons                                          34 non-null float64\n",
      "Received a better job offer                               169 non-null float64\n",
      "Left for higher salary                                    3 non-null float64\n",
      "Retirement/taking a break                                 7 non-null float64\n",
      "Welfare and benefits issues                               52 non-null float64\n",
      "Wants to work in home country                             20 non-null float64\n",
      "Unable to cope with physical training                     0 non-null float64\n",
      "Family/own business                                       22 non-null float64\n",
      "Difficulties with clients                                 14 non-null float64\n",
      "Difficulties with colleagues                              28 non-null float64\n",
      "Difficulties with supervisors                             37 non-null float64\n",
      "Any additional comments?                                  15 non-null object\n",
      "Difficulty with location/transport                        82 non-null float64\n",
      "Cannot adapt to working environment/working conditions    69 non-null float64\n",
      "Health issues                                             86 non-null float64\n",
      "Lack of career development/promotion prospects            64 non-null float64\n",
      "dtypes: float64(22), int64(1), object(3)\n",
      "memory usage: 166.2+ KB\n"
     ]
    }
   ],
   "source": [
    "df3.info()"
   ]
  },
  {
   "cell_type": "code",
   "execution_count": 136,
   "metadata": {},
   "outputs": [],
   "source": [
    "df4 = pd.read_csv(\"headcount.csv\")\n",
    "df5 = df3.groupby(['Org Unit', 'Date of Leaving']).count()['Staff ID'].reset_index()"
   ]
  },
  {
   "cell_type": "code",
   "execution_count": 137,
   "metadata": {},
   "outputs": [
    {
     "data": {
      "text/html": [
       "<div>\n",
       "<style scoped>\n",
       "    .dataframe tbody tr th:only-of-type {\n",
       "        vertical-align: middle;\n",
       "    }\n",
       "\n",
       "    .dataframe tbody tr th {\n",
       "        vertical-align: top;\n",
       "    }\n",
       "\n",
       "    .dataframe thead th {\n",
       "        text-align: right;\n",
       "    }\n",
       "</style>\n",
       "<table border=\"1\" class=\"dataframe\">\n",
       "  <thead>\n",
       "    <tr style=\"text-align: right;\">\n",
       "      <th></th>\n",
       "      <th>Org. Unit</th>\n",
       "      <th>Date</th>\n",
       "      <th>Headcount</th>\n",
       "    </tr>\n",
       "  </thead>\n",
       "  <tbody>\n",
       "    <tr>\n",
       "      <th>0</th>\n",
       "      <td>1B6-AGC</td>\n",
       "      <td>2017-04-01</td>\n",
       "      <td>4</td>\n",
       "    </tr>\n",
       "    <tr>\n",
       "      <th>1</th>\n",
       "      <td>1B6-AGC</td>\n",
       "      <td>2017-05-01</td>\n",
       "      <td>4</td>\n",
       "    </tr>\n",
       "    <tr>\n",
       "      <th>2</th>\n",
       "      <td>1B6-AGC</td>\n",
       "      <td>2017-06-01</td>\n",
       "      <td>4</td>\n",
       "    </tr>\n",
       "    <tr>\n",
       "      <th>3</th>\n",
       "      <td>1B6-AGC</td>\n",
       "      <td>2017-07-01</td>\n",
       "      <td>3</td>\n",
       "    </tr>\n",
       "    <tr>\n",
       "      <th>4</th>\n",
       "      <td>1B6-AGC</td>\n",
       "      <td>2017-08-01</td>\n",
       "      <td>3</td>\n",
       "    </tr>\n",
       "  </tbody>\n",
       "</table>\n",
       "</div>"
      ],
      "text/plain": [
       "  Org. Unit        Date  Headcount\n",
       "0   1B6-AGC  2017-04-01          4\n",
       "1   1B6-AGC  2017-05-01          4\n",
       "2   1B6-AGC  2017-06-01          4\n",
       "3   1B6-AGC  2017-07-01          3\n",
       "4   1B6-AGC  2017-08-01          3"
      ]
     },
     "execution_count": 137,
     "metadata": {},
     "output_type": "execute_result"
    }
   ],
   "source": [
    "df4.head()"
   ]
  },
  {
   "cell_type": "markdown",
   "metadata": {},
   "source": [
    "Merge and write:"
   ]
  },
  {
   "cell_type": "code",
   "execution_count": 138,
   "metadata": {},
   "outputs": [],
   "source": [
    "df4['Date'] = pd.to_datetime(df4['Date'])\n",
    "df4['Date'] = df4['Date'] + pd.DateOffset(months=1)\n",
    "df5.rename(columns={'Org Unit': 'Org. Unit', 'Date of Leaving': 'Date', 'Staff ID': 'Resignations'}, inplace=True)\n",
    "df5['Date'] = pd.to_datetime(df5['Date'])\n",
    "df6 = pd.merge(df4, df5, how=\"left\", on=['Org. Unit', 'Date'])\n",
    "df6.fillna(0, inplace=True)\n",
    "df6.to_csv(\"attritions.csv\",index=False)"
   ]
  },
  {
   "cell_type": "code",
   "execution_count": null,
   "metadata": {},
   "outputs": [],
   "source": []
  }
 ],
 "metadata": {
  "kernelspec": {
   "display_name": "Python 3",
   "language": "python",
   "name": "python3"
  },
  "language_info": {
   "codemirror_mode": {
    "name": "ipython",
    "version": 3
   },
   "file_extension": ".py",
   "mimetype": "text/x-python",
   "name": "python",
   "nbconvert_exporter": "python",
   "pygments_lexer": "ipython3",
   "version": "3.7.1"
  }
 },
 "nbformat": 4,
 "nbformat_minor": 2
}
