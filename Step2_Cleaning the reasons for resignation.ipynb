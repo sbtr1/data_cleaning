{
 "cells": [
  {
   "cell_type": "code",
   "execution_count": 58,
   "metadata": {},
   "outputs": [],
   "source": [
    "import pandas as pd\n",
    "from datetime import datetime"
   ]
  },
  {
   "cell_type": "code",
   "execution_count": 59,
   "metadata": {},
   "outputs": [],
   "source": [
    "resigned = pd.read_csv(\"resigned.csv\")\n",
    "reasons = pd.read_csv(\"reasons.csv\")"
   ]
  },
  {
   "cell_type": "markdown",
   "metadata": {},
   "source": [
    "Drop the duplicate Staff IDs:"
   ]
  },
  {
   "cell_type": "code",
   "execution_count": 60,
   "metadata": {},
   "outputs": [],
   "source": [
    "resigned.drop_duplicates(subset='Staff ID', keep='last', inplace=True)\n",
    "reasons.drop_duplicates(subset='Number', keep='last', inplace=True)"
   ]
  },
  {
   "cell_type": "markdown",
   "metadata": {},
   "source": [
    "Data cleaning:"
   ]
  },
  {
   "cell_type": "code",
   "execution_count": 61,
   "metadata": {},
   "outputs": [],
   "source": [
    "#Resigned data:\n",
    "resigned['Date of Leaving'] = pd.to_datetime(resigned['Date of Leaving'], format='%d/%m/%y') + pd.offsets.MonthEnd(n=1)\n",
    "resigned['Staff ID'] = resigned['Staff ID'].astype(int)"
   ]
  },
  {
   "cell_type": "code",
   "execution_count": 62,
   "metadata": {},
   "outputs": [],
   "source": [
    "#Reasons data:\n",
    "reasons.drop(['Timestamp'], axis=1, inplace=True)\n",
    "reasons.replace(\"Yes\", 1, inplace=True)\n",
    "reasons['Difficulty with location/transport'] = reasons[[\"Difficulty with location\", \"Transport problems\"]].max(axis=1)\n",
    "reasons['Cannot adapt to working environment/working conditions'] = reasons[[\"Cannot adapt to working environement\", \"Working conditions\"]].max(axis=1)\n",
    "reasons['Health issues'] = reasons[[\"Health issues unrelated to work\", \"Health issues related to work\"]].max(axis=1)\n",
    "reasons['Lack of career development/promotion prospects'] = reasons[[\"Lack of career development\", \"No promotional prospects\"]].max(axis=1)\n",
    "reasons.drop(['Difficulty with location', 'Transport problems'], axis=1, inplace=True)\n",
    "reasons.drop(['Cannot adapt to working environement', 'Working conditions'], axis=1, inplace=True)\n",
    "reasons.drop(['Health issues unrelated to work', 'Health issues related to work'], axis=1, inplace=True)\n",
    "reasons.drop(['Lack of career development', 'No promotional prospects'], axis=1, inplace=True)\n",
    "reasons.rename(columns={'Difficulty with clients': 'Difficulties with clients', 'Difficulty with colleagues': \n",
    "                        'Difficulties with colleagues', 'Difficulty with supervisors': 'Difficulties with supervisors',\n",
    "                       'Number': 'Staff ID'}, inplace=True)\n",
    "reasons['Staff ID'].fillna(0, inplace=True)\n",
    "reasons['Staff ID'] = reasons['Staff ID'].astype(int)\n",
    "reasons_melted = pd.melt(reasons, id_vars=['Staff ID'])\n",
    "reasons_melted.dropna(inplace=True)"
   ]
  },
  {
   "cell_type": "code",
   "execution_count": 63,
   "metadata": {},
   "outputs": [
    {
     "name": "stdout",
     "output_type": "stream",
     "text": [
      "<class 'pandas.core.frame.DataFrame'>\n",
      "Int64Index: 2508 entries, 0 to 2526\n",
      "Data columns (total 26 columns):\n",
      "Staff ID                                                  2508 non-null int64\n",
      "Change of career line                                     1080 non-null float64\n",
      "Expectations mismatched                                   5 non-null float64\n",
      "Family reasons                                            251 non-null float64\n",
      "Further studies                                           517 non-null float64\n",
      "Difficulty with job scope                                 72 non-null float64\n",
      "Long working hours                                        714 non-null float64\n",
      "Low basic pay                                             773 non-null float64\n",
      "Personal reasons                                          112 non-null float64\n",
      "Received a better job offer                               303 non-null float64\n",
      "Left for higher salary                                    58 non-null float64\n",
      "Retirement/taking a break                                 29 non-null float64\n",
      "Welfare and benefits issues                               165 non-null float64\n",
      "Wants to work in home country                             94 non-null float64\n",
      "Unable to cope with physical training                     47 non-null float64\n",
      "Family/own business                                       87 non-null float64\n",
      "Difficulties with clients                                 48 non-null float64\n",
      "Difficulties with colleagues                              82 non-null float64\n",
      "Difficulties with supervisors                             140 non-null float64\n",
      "No bonus given                                            61 non-null float64\n",
      "Wrong pay calculation                                     82 non-null float64\n",
      "Not specified                                             172 non-null float64\n",
      "Difficulty with location/transport                        229 non-null float64\n",
      "Cannot adapt to working environment/working conditions    251 non-null float64\n",
      "Health issues                                             285 non-null float64\n",
      "Lack of career development/promotion prospects            203 non-null float64\n",
      "dtypes: float64(25), int64(1)\n",
      "memory usage: 529.0 KB\n"
     ]
    }
   ],
   "source": [
    "reasons.info()"
   ]
  },
  {
   "cell_type": "markdown",
   "metadata": {},
   "source": [
    "Merge and write:"
   ]
  },
  {
   "cell_type": "code",
   "execution_count": 64,
   "metadata": {},
   "outputs": [],
   "source": [
    "df3 = pd.merge(resigned, reasons_melted, how='left', on=['Staff ID'])\n",
    "df3.drop(['value'], axis=1, inplace=True)\n",
    "df3.fillna(\"Not specified\", inplace=True)\n",
    "df3.to_csv(\"resigned_clean.csv\", index=False)"
   ]
  },
  {
   "cell_type": "code",
   "execution_count": null,
   "metadata": {},
   "outputs": [],
   "source": []
  }
 ],
 "metadata": {
  "kernelspec": {
   "display_name": "Python 3",
   "language": "python",
   "name": "python3"
  },
  "language_info": {
   "codemirror_mode": {
    "name": "ipython",
    "version": 3
   },
   "file_extension": ".py",
   "mimetype": "text/x-python",
   "name": "python",
   "nbconvert_exporter": "python",
   "pygments_lexer": "ipython3",
   "version": "3.7.1"
  }
 },
 "nbformat": 4,
 "nbformat_minor": 2
}
