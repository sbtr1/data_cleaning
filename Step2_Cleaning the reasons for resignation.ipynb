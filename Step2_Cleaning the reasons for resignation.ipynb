{
 "cells": [
  {
   "cell_type": "code",
   "execution_count": 11,
   "metadata": {},
   "outputs": [],
   "source": [
    "import pandas as pd\n",
    "from datetime import datetime"
   ]
  },
  {
   "cell_type": "code",
   "execution_count": 30,
   "metadata": {},
   "outputs": [],
   "source": [
    "resigned = pd.read_csv(\"resigned.csv\")\n",
    "reasons = pd.read_csv(\"reasons.csv\")"
   ]
  },
  {
   "cell_type": "code",
   "execution_count": 31,
   "metadata": {},
   "outputs": [
    {
     "name": "stdout",
     "output_type": "stream",
     "text": [
      "<class 'pandas.core.frame.DataFrame'>\n",
      "RangeIndex: 2764 entries, 0 to 2763\n",
      "Data columns (total 2 columns):\n",
      "Date of Leaving    2764 non-null object\n",
      "Staff ID           2764 non-null int64\n",
      "dtypes: int64(1), object(1)\n",
      "memory usage: 43.3+ KB\n"
     ]
    }
   ],
   "source": [
    "resigned.info()"
   ]
  },
  {
   "cell_type": "code",
   "execution_count": 32,
   "metadata": {},
   "outputs": [
    {
     "name": "stdout",
     "output_type": "stream",
     "text": [
      "<class 'pandas.core.frame.DataFrame'>\n",
      "RangeIndex: 2527 entries, 0 to 2526\n",
      "Data columns (total 31 columns):\n",
      "Timestamp                                2527 non-null object\n",
      "Number                                   2523 non-null float64\n",
      "Cannot adapt to working environement     240 non-null object\n",
      "Change of career line                    1090 non-null object\n",
      "Difficulty with location                 115 non-null object\n",
      "Expectations mismatched                  5 non-null object\n",
      "Family reasons                           252 non-null object\n",
      "Further studies                          518 non-null object\n",
      "Health issues unrelated to work          284 non-null object\n",
      "Health issues related to work            3 non-null object\n",
      "Difficulty with job scope                72 non-null object\n",
      "Lack of career development               19 non-null object\n",
      "Long working hours                       716 non-null object\n",
      "Low basic pay                            778 non-null object\n",
      "No promotional prospects                 193 non-null object\n",
      "Personal reasons                         112 non-null object\n",
      "Received a better job offer              306 non-null object\n",
      "Left for higher salary                   58 non-null object\n",
      "Retirement/taking a break                30 non-null object\n",
      "Transport problems                       129 non-null object\n",
      "Working conditions                       14 non-null object\n",
      "Welfare and benefits issues              167 non-null object\n",
      "Wants to work in home country            94 non-null object\n",
      "Unable to cope with physical training    47 non-null object\n",
      "Family/own business                      87 non-null object\n",
      "Difficulty with clients                  50 non-null object\n",
      "Difficulty with colleagues               82 non-null object\n",
      "Difficulty with supervisors              141 non-null object\n",
      "No bonus given                           61 non-null object\n",
      "Wrong pay calculation                    82 non-null object\n",
      "Not specified                            177 non-null object\n",
      "dtypes: float64(1), object(30)\n",
      "memory usage: 612.1+ KB\n"
     ]
    }
   ],
   "source": [
    "reasons.info()"
   ]
  },
  {
   "cell_type": "markdown",
   "metadata": {},
   "source": [
    "Drop the duplicate Staff IDs:"
   ]
  },
  {
   "cell_type": "code",
   "execution_count": 33,
   "metadata": {},
   "outputs": [],
   "source": [
    "resigned.drop_duplicates(subset='Staff ID', keep='last', inplace=True)\n",
    "reasons.drop_duplicates(subset='Number', keep='last', inplace=True)"
   ]
  },
  {
   "cell_type": "markdown",
   "metadata": {},
   "source": [
    "Data cleaning:"
   ]
  },
  {
   "cell_type": "code",
   "execution_count": 34,
   "metadata": {},
   "outputs": [],
   "source": [
    "#Resigned data:\n",
    "resigned['Date of Leaving'] = pd.to_datetime(resigned['Date of Leaving'], format='%d/%m/%y') + pd.offsets.MonthEnd(n=1)\n",
    "resigned['Staff ID'] = resigned['Staff ID'].astype(int)"
   ]
  },
  {
   "cell_type": "code",
   "execution_count": 35,
   "metadata": {},
   "outputs": [
    {
     "data": {
      "text/html": [
       "<div>\n",
       "<style scoped>\n",
       "    .dataframe tbody tr th:only-of-type {\n",
       "        vertical-align: middle;\n",
       "    }\n",
       "\n",
       "    .dataframe tbody tr th {\n",
       "        vertical-align: top;\n",
       "    }\n",
       "\n",
       "    .dataframe thead th {\n",
       "        text-align: right;\n",
       "    }\n",
       "</style>\n",
       "<table border=\"1\" class=\"dataframe\">\n",
       "  <thead>\n",
       "    <tr style=\"text-align: right;\">\n",
       "      <th></th>\n",
       "      <th>Date of Leaving</th>\n",
       "      <th>Staff ID</th>\n",
       "    </tr>\n",
       "  </thead>\n",
       "  <tbody>\n",
       "    <tr>\n",
       "      <th>0</th>\n",
       "      <td>2014-01-31</td>\n",
       "      <td>6324</td>\n",
       "    </tr>\n",
       "    <tr>\n",
       "      <th>1</th>\n",
       "      <td>2014-01-31</td>\n",
       "      <td>50948</td>\n",
       "    </tr>\n",
       "    <tr>\n",
       "      <th>2</th>\n",
       "      <td>2014-01-31</td>\n",
       "      <td>39592</td>\n",
       "    </tr>\n",
       "    <tr>\n",
       "      <th>3</th>\n",
       "      <td>2014-01-31</td>\n",
       "      <td>58098</td>\n",
       "    </tr>\n",
       "    <tr>\n",
       "      <th>4</th>\n",
       "      <td>2014-01-31</td>\n",
       "      <td>58320</td>\n",
       "    </tr>\n",
       "  </tbody>\n",
       "</table>\n",
       "</div>"
      ],
      "text/plain": [
       "  Date of Leaving  Staff ID\n",
       "0      2014-01-31      6324\n",
       "1      2014-01-31     50948\n",
       "2      2014-01-31     39592\n",
       "3      2014-01-31     58098\n",
       "4      2014-01-31     58320"
      ]
     },
     "execution_count": 35,
     "metadata": {},
     "output_type": "execute_result"
    }
   ],
   "source": [
    "resigned.head()"
   ]
  },
  {
   "cell_type": "code",
   "execution_count": 36,
   "metadata": {},
   "outputs": [],
   "source": [
    "#Reasons data:\n",
    "reasons.drop(['Timestamp'], axis=1, inplace=True)\n",
    "reasons.replace(\"Yes\", 1, inplace=True)\n",
    "reasons['Difficulty with location/transport'] = reasons[[\"Difficulty with location\", \"Transport problems\"]].max(axis=1)\n",
    "reasons['Cannot adapt to working environment/working conditions'] = reasons[[\"Cannot adapt to working environement\", \"Working conditions\"]].max(axis=1)\n",
    "reasons['Health issues'] = reasons[[\"Health issues unrelated to work\", \"Health issues related to work\"]].max(axis=1)\n",
    "reasons['Lack of career development/promotion prospects'] = reasons[[\"Lack of career development\", \"No promotional prospects\"]].max(axis=1)\n",
    "reasons.drop(['Difficulty with location', 'Transport problems'], axis=1, inplace=True)\n",
    "reasons.drop(['Cannot adapt to working environement', 'Working conditions'], axis=1, inplace=True)\n",
    "reasons.drop(['Health issues unrelated to work', 'Health issues related to work'], axis=1, inplace=True)\n",
    "reasons.drop(['Lack of career development', 'No promotional prospects'], axis=1, inplace=True)\n",
    "reasons.rename(columns={'Difficulty with clients': 'Difficulties with clients', 'Difficulty with colleagues': \n",
    "                        'Difficulties with colleagues', 'Difficulty with supervisors': 'Difficulties with supervisors',\n",
    "                       'Number': 'Staff ID'}, inplace=True)\n",
    "reasons['Staff ID'].fillna(0, inplace=True)\n",
    "reasons['Staff ID'] = reasons['Staff ID'].astype(int)\n",
    "reasons_melted = pd.melt(reasons, id_vars=['Staff ID'])\n",
    "reasons_melted.dropna(inplace=True)"
   ]
  },
  {
   "cell_type": "code",
   "execution_count": 37,
   "metadata": {},
   "outputs": [
    {
     "name": "stdout",
     "output_type": "stream",
     "text": [
      "<class 'pandas.core.frame.DataFrame'>\n",
      "Int64Index: 2508 entries, 0 to 2526\n",
      "Data columns (total 26 columns):\n",
      "Staff ID                                                  2508 non-null int64\n",
      "Change of career line                                     1080 non-null float64\n",
      "Expectations mismatched                                   5 non-null float64\n",
      "Family reasons                                            251 non-null float64\n",
      "Further studies                                           517 non-null float64\n",
      "Difficulty with job scope                                 72 non-null float64\n",
      "Long working hours                                        714 non-null float64\n",
      "Low basic pay                                             773 non-null float64\n",
      "Personal reasons                                          112 non-null float64\n",
      "Received a better job offer                               303 non-null float64\n",
      "Left for higher salary                                    58 non-null float64\n",
      "Retirement/taking a break                                 29 non-null float64\n",
      "Welfare and benefits issues                               165 non-null float64\n",
      "Wants to work in home country                             94 non-null float64\n",
      "Unable to cope with physical training                     47 non-null float64\n",
      "Family/own business                                       87 non-null float64\n",
      "Difficulties with clients                                 48 non-null float64\n",
      "Difficulties with colleagues                              82 non-null float64\n",
      "Difficulties with supervisors                             140 non-null float64\n",
      "No bonus given                                            61 non-null float64\n",
      "Wrong pay calculation                                     82 non-null float64\n",
      "Not specified                                             172 non-null float64\n",
      "Difficulty with location/transport                        229 non-null float64\n",
      "Cannot adapt to working environment/working conditions    251 non-null float64\n",
      "Health issues                                             285 non-null float64\n",
      "Lack of career development/promotion prospects            203 non-null float64\n",
      "dtypes: float64(25), int64(1)\n",
      "memory usage: 529.0 KB\n"
     ]
    }
   ],
   "source": [
    "reasons.info()"
   ]
  },
  {
   "cell_type": "code",
   "execution_count": 38,
   "metadata": {},
   "outputs": [
    {
     "data": {
      "text/html": [
       "<div>\n",
       "<style scoped>\n",
       "    .dataframe tbody tr th:only-of-type {\n",
       "        vertical-align: middle;\n",
       "    }\n",
       "\n",
       "    .dataframe tbody tr th {\n",
       "        vertical-align: top;\n",
       "    }\n",
       "\n",
       "    .dataframe thead th {\n",
       "        text-align: right;\n",
       "    }\n",
       "</style>\n",
       "<table border=\"1\" class=\"dataframe\">\n",
       "  <thead>\n",
       "    <tr style=\"text-align: right;\">\n",
       "      <th></th>\n",
       "      <th>Staff ID</th>\n",
       "      <th>variable</th>\n",
       "      <th>value</th>\n",
       "    </tr>\n",
       "  </thead>\n",
       "  <tbody>\n",
       "    <tr>\n",
       "      <th>62575</th>\n",
       "      <td>78670</td>\n",
       "      <td>Lack of career development/promotion prospects</td>\n",
       "      <td>1.0</td>\n",
       "    </tr>\n",
       "    <tr>\n",
       "      <th>62601</th>\n",
       "      <td>73605</td>\n",
       "      <td>Lack of career development/promotion prospects</td>\n",
       "      <td>1.0</td>\n",
       "    </tr>\n",
       "    <tr>\n",
       "      <th>62684</th>\n",
       "      <td>98849</td>\n",
       "      <td>Lack of career development/promotion prospects</td>\n",
       "      <td>1.0</td>\n",
       "    </tr>\n",
       "    <tr>\n",
       "      <th>62690</th>\n",
       "      <td>66385</td>\n",
       "      <td>Lack of career development/promotion prospects</td>\n",
       "      <td>1.0</td>\n",
       "    </tr>\n",
       "    <tr>\n",
       "      <th>62692</th>\n",
       "      <td>84063</td>\n",
       "      <td>Lack of career development/promotion prospects</td>\n",
       "      <td>1.0</td>\n",
       "    </tr>\n",
       "  </tbody>\n",
       "</table>\n",
       "</div>"
      ],
      "text/plain": [
       "       Staff ID                                        variable  value\n",
       "62575     78670  Lack of career development/promotion prospects    1.0\n",
       "62601     73605  Lack of career development/promotion prospects    1.0\n",
       "62684     98849  Lack of career development/promotion prospects    1.0\n",
       "62690     66385  Lack of career development/promotion prospects    1.0\n",
       "62692     84063  Lack of career development/promotion prospects    1.0"
      ]
     },
     "execution_count": 38,
     "metadata": {},
     "output_type": "execute_result"
    }
   ],
   "source": [
    "reasons_melted.tail()"
   ]
  },
  {
   "cell_type": "markdown",
   "metadata": {},
   "source": [
    "Merge and write:"
   ]
  },
  {
   "cell_type": "code",
   "execution_count": 39,
   "metadata": {},
   "outputs": [],
   "source": [
    "df2 = pd.merge(reasons_melted, resigned, how='left', on=['Staff ID'])\n",
    "df2.dropna(inplace=True)\n",
    "df2.drop(['value'], axis=1, inplace=True)\n",
    "#df2['Date of Leaving'] = df2['Date of Leaving'] + pd.offsets.MonthEnd(n=1)\n",
    "df2.to_csv(\"resigned_clean.csv\",index=False)"
   ]
  },
  {
   "cell_type": "code",
   "execution_count": null,
   "metadata": {},
   "outputs": [],
   "source": []
  }
 ],
 "metadata": {
  "kernelspec": {
   "display_name": "Python 3",
   "language": "python",
   "name": "python3"
  },
  "language_info": {
   "codemirror_mode": {
    "name": "ipython",
    "version": 3
   },
   "file_extension": ".py",
   "mimetype": "text/x-python",
   "name": "python",
   "nbconvert_exporter": "python",
   "pygments_lexer": "ipython3",
   "version": "3.7.1"
  }
 },
 "nbformat": 4,
 "nbformat_minor": 2
}
