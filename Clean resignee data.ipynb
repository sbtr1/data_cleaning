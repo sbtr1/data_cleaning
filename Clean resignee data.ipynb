{
 "cells": [
  {
   "cell_type": "code",
   "execution_count": 1,
   "metadata": {},
   "outputs": [],
   "source": [
    "import pandas as pd\n",
    "import numpy as np\n",
    "import matplotlib.pyplot as plt\n",
    "import datetime"
   ]
  },
  {
   "cell_type": "code",
   "execution_count": 2,
   "metadata": {},
   "outputs": [],
   "source": [
    "resigned = pd.read_csv(\"resigned.csv\")\n",
    "reasons = pd.read_csv(\"reasons.csv\")"
   ]
  },
  {
   "cell_type": "code",
   "execution_count": 3,
   "metadata": {},
   "outputs": [
    {
     "name": "stdout",
     "output_type": "stream",
     "text": [
      "<class 'pandas.core.frame.DataFrame'>\n",
      "RangeIndex: 888 entries, 0 to 887\n",
      "Data columns (total 6 columns):\n",
      "Date of Leaving    888 non-null object\n",
      "Staff ID           888 non-null int64\n",
      "Name of APO        888 non-null object\n",
      "Org Unit           888 non-null object\n",
      "Leaving Reason     888 non-null object\n",
      "Employment         888 non-null object\n",
      "dtypes: int64(1), object(5)\n",
      "memory usage: 41.7+ KB\n"
     ]
    }
   ],
   "source": [
    "resigned.info()"
   ]
  },
  {
   "cell_type": "code",
   "execution_count": 4,
   "metadata": {},
   "outputs": [
    {
     "name": "stdout",
     "output_type": "stream",
     "text": [
      "<class 'pandas.core.frame.DataFrame'>\n",
      "RangeIndex: 1293 entries, 0 to 1292\n",
      "Data columns (total 29 columns):\n",
      "Timestamp                                1293 non-null object\n",
      "Staff ID                                 1290 non-null float64\n",
      "Cannot adapt to working environement     128 non-null object\n",
      "Change of career line                    617 non-null object\n",
      "Difficulty with location                 62 non-null object\n",
      "Expectations mismatched                  2 non-null object\n",
      "Family reasons                           151 non-null object\n",
      "Further studies                          284 non-null object\n",
      "Health issues unrelated to work          154 non-null object\n",
      "Health issues related to work            0 non-null float64\n",
      "Difficulty with job scope                55 non-null object\n",
      "Lack of career development               12 non-null object\n",
      "Long working hours                       338 non-null object\n",
      "Low basic pay                            406 non-null object\n",
      "No promotional prospects                 92 non-null object\n",
      "Personal reasons                         70 non-null object\n",
      "Received a better job offer              214 non-null object\n",
      "Left for higher salary                   7 non-null object\n",
      "Retirement/taking a break                11 non-null object\n",
      "Transport problems                       77 non-null object\n",
      "Working conditions                       8 non-null object\n",
      "Welfare and benefits issues              71 non-null object\n",
      "Wants to work in home country            29 non-null object\n",
      "Unable to cope with physical training    39 non-null object\n",
      "Family/own business                      31 non-null object\n",
      "Difficulty with clients                  20 non-null object\n",
      "Difficulty with colleagues               43 non-null object\n",
      "Difficulty with supervisors              65 non-null object\n",
      "Any additional comments?                 66 non-null object\n",
      "dtypes: float64(2), object(27)\n",
      "memory usage: 293.0+ KB\n"
     ]
    }
   ],
   "source": [
    "reasons.info()"
   ]
  },
  {
   "cell_type": "code",
   "execution_count": 5,
   "metadata": {},
   "outputs": [],
   "source": [
    "resigned['Date of Leaving'] = pd.to_datetime(resigned['Date of Leaving'])\n",
    "resigned['Staff ID'] = resigned['Staff ID'].astype(int)\n",
    "resigned.drop(['Name of APO'], axis=1, inplace=True)"
   ]
  },
  {
   "cell_type": "code",
   "execution_count": 6,
   "metadata": {},
   "outputs": [],
   "source": [
    "reasons.drop(['Timestamp'], axis=1, inplace=True)\n",
    "reasons.replace(\"Yes\",1, inplace=True)\n",
    "reasons.fillna(0, inplace=True)\n",
    "reasons['Staff ID'] = reasons['Staff ID'].astype(int)"
   ]
  },
  {
   "cell_type": "code",
   "execution_count": 10,
   "metadata": {},
   "outputs": [],
   "source": [
    "resigned = resigned[resigned['Org Unit']!='APF HQ Recruits Branch']"
   ]
  },
  {
   "cell_type": "code",
   "execution_count": 11,
   "metadata": {},
   "outputs": [],
   "source": [
    "reasons['Difficulty with location/transport'] = reasons[[\"Difficulty with location\", \"Transport problems\"]].max(axis=1)\n",
    "reasons['Cannot adapt to working environment/working conditions'] = reasons[[\"Cannot adapt to working environement\", \"Working conditions\"]].max(axis=1)\n",
    "reasons['Health issues'] = reasons[[\"Health issues unrelated to work\", \"Health issues related to work\"]].max(axis=1)\n",
    "reasons['Lack of career development/promotion prospects'] = reasons[[\"Lack of career development\", \"No promotional prospects\"]].max(axis=1)"
   ]
  },
  {
   "cell_type": "code",
   "execution_count": 12,
   "metadata": {},
   "outputs": [],
   "source": [
    "reasons.drop(['Difficulty with location', 'Transport problems'], axis=1, inplace=True)\n",
    "reasons.drop(['Cannot adapt to working environement', 'Working conditions'], axis=1, inplace=True)\n",
    "reasons.drop(['Health issues unrelated to work', 'Health issues related to work'], axis=1, inplace=True)\n",
    "reasons.drop(['Lack of career development', 'No promotional prospects'], axis=1, inplace=True)"
   ]
  },
  {
   "cell_type": "code",
   "execution_count": 13,
   "metadata": {},
   "outputs": [],
   "source": [
    "reasons.rename(columns={'Difficulty with clients': 'Difficulties with clients', 'Difficulty with colleagues': \n",
    "                        'Difficulties with colleagues', 'Difficulty with supervisors': 'Difficulties with supervisors'}, inplace=True)"
   ]
  },
  {
   "cell_type": "code",
   "execution_count": 14,
   "metadata": {},
   "outputs": [],
   "source": [
    "df2 = pd.merge(resigned, reasons, how='left', on=['Staff ID'])\n",
    "df2.fillna(0, inplace=True)"
   ]
  },
  {
   "cell_type": "code",
   "execution_count": 15,
   "metadata": {},
   "outputs": [],
   "source": [
    "df2.drop_duplicates(subset='Staff ID', keep='first', inplace=True)"
   ]
  },
  {
   "cell_type": "code",
   "execution_count": 16,
   "metadata": {},
   "outputs": [
    {
     "name": "stdout",
     "output_type": "stream",
     "text": [
      "<class 'pandas.core.frame.DataFrame'>\n",
      "Int64Index: 788 entries, 0 to 797\n",
      "Data columns (total 28 columns):\n",
      "Date of Leaving                                           788 non-null datetime64[ns]\n",
      "Staff ID                                                  788 non-null int64\n",
      "Org Unit                                                  788 non-null object\n",
      "Leaving Reason                                            788 non-null object\n",
      "Employment                                                788 non-null object\n",
      "Change of career line                                     788 non-null float64\n",
      "Expectations mismatched                                   788 non-null float64\n",
      "Family reasons                                            788 non-null float64\n",
      "Further studies                                           788 non-null float64\n",
      "Difficulty with job scope                                 788 non-null float64\n",
      "Long working hours                                        788 non-null float64\n",
      "Low basic pay                                             788 non-null float64\n",
      "Personal reasons                                          788 non-null float64\n",
      "Received a better job offer                               788 non-null float64\n",
      "Left for higher salary                                    788 non-null float64\n",
      "Retirement/taking a break                                 788 non-null float64\n",
      "Welfare and benefits issues                               788 non-null float64\n",
      "Wants to work in home country                             788 non-null float64\n",
      "Unable to cope with physical training                     788 non-null float64\n",
      "Family/own business                                       788 non-null float64\n",
      "Difficulties with clients                                 788 non-null float64\n",
      "Difficulties with colleagues                              788 non-null float64\n",
      "Difficulties with supervisors                             788 non-null float64\n",
      "Any additional comments?                                  788 non-null object\n",
      "Difficulty with location/transport                        788 non-null float64\n",
      "Cannot adapt to working environment/working conditions    788 non-null float64\n",
      "Health issues                                             788 non-null float64\n",
      "Lack of career development/promotion prospects            788 non-null float64\n",
      "dtypes: datetime64[ns](1), float64(22), int64(1), object(4)\n",
      "memory usage: 178.5+ KB\n"
     ]
    }
   ],
   "source": [
    "df2.info()"
   ]
  },
  {
   "cell_type": "code",
   "execution_count": 17,
   "metadata": {},
   "outputs": [],
   "source": [
    "df2.to_csv(\"resigned_clean.csv\", index=False)"
   ]
  },
  {
   "cell_type": "code",
   "execution_count": null,
   "metadata": {},
   "outputs": [],
   "source": []
  }
 ],
 "metadata": {
  "kernelspec": {
   "display_name": "Python 3",
   "language": "python",
   "name": "python3"
  },
  "language_info": {
   "codemirror_mode": {
    "name": "ipython",
    "version": 3
   },
   "file_extension": ".py",
   "mimetype": "text/x-python",
   "name": "python",
   "nbconvert_exporter": "python",
   "pygments_lexer": "ipython3",
   "version": "3.7.1"
  }
 },
 "nbformat": 4,
 "nbformat_minor": 2
}
