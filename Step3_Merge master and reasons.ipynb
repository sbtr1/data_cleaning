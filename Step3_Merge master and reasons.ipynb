{
 "cells": [
  {
   "cell_type": "code",
   "execution_count": 6,
   "metadata": {},
   "outputs": [],
   "source": [
    "import pandas as pd\n",
    "from datetime import datetime"
   ]
  },
  {
   "cell_type": "code",
   "execution_count": 11,
   "metadata": {},
   "outputs": [],
   "source": [
    "master = pd.read_csv(\"master.csv\")\n",
    "reasons = pd.read_csv(\"resigned_clean.csv\")\n",
    "reasons.rename(columns={'variable': 'Reason', 'Date of Leaving':'Date'}, inplace=True)\n",
    "master.rename(columns={'Date of Headcount': 'Date'}, inplace=True)\n",
    "reasons['Date'] = pd.to_datetime(reasons['Date'])\n",
    "master['Date'] = pd.to_datetime(master['Date'])"
   ]
  },
  {
   "cell_type": "code",
   "execution_count": 12,
   "metadata": {},
   "outputs": [],
   "source": [
    "merged = pd.merge(master, reasons, how=\"left\", on=['Staff ID','Date'])"
   ]
  },
  {
   "cell_type": "code",
   "execution_count": 13,
   "metadata": {},
   "outputs": [
    {
     "name": "stdout",
     "output_type": "stream",
     "text": [
      "<class 'pandas.core.frame.DataFrame'>\n",
      "Int64Index: 192213 entries, 0 to 192212\n",
      "Data columns (total 12 columns):\n",
      "Rank                  192213 non-null object\n",
      "Staff ID              192213 non-null int64\n",
      "Sex                   192213 non-null object\n",
      "Race                  192213 non-null object\n",
      "Nationality           192213 non-null object\n",
      "Marital Status        192141 non-null object\n",
      "Date of Birth         192213 non-null object\n",
      "Date of Enlistment    192213 non-null object\n",
      "Date                  192213 non-null datetime64[ns]\n",
      "Education Rank        192206 non-null float64\n",
      "Org Unit Group        192213 non-null object\n",
      "Reason                4865 non-null object\n",
      "dtypes: datetime64[ns](1), float64(1), int64(1), object(9)\n",
      "memory usage: 19.1+ MB\n"
     ]
    }
   ],
   "source": [
    "merged.info()"
   ]
  },
  {
   "cell_type": "code",
   "execution_count": 14,
   "metadata": {},
   "outputs": [],
   "source": [
    "merged.to_csv(\"merged.csv\", index=False)"
   ]
  },
  {
   "cell_type": "code",
   "execution_count": null,
   "metadata": {},
   "outputs": [],
   "source": []
  }
 ],
 "metadata": {
  "kernelspec": {
   "display_name": "Python 3",
   "language": "python",
   "name": "python3"
  },
  "language_info": {
   "codemirror_mode": {
    "name": "ipython",
    "version": 3
   },
   "file_extension": ".py",
   "mimetype": "text/x-python",
   "name": "python",
   "nbconvert_exporter": "python",
   "pygments_lexer": "ipython3",
   "version": "3.7.1"
  }
 },
 "nbformat": 4,
 "nbformat_minor": 2
}
